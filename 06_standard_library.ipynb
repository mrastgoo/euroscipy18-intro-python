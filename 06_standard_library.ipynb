{
 "cells": [
  {
   "cell_type": "markdown",
   "metadata": {},
   "source": [
    "# Standard libraries"
   ]
  },
  {
   "cell_type": "markdown",
   "metadata": {},
   "source": [
    "## `os` module: operating system functionality"
   ]
  },
  {
   "cell_type": "code",
   "execution_count": 17,
   "metadata": {
    "collapsed": true
   },
   "outputs": [],
   "source": [
    "import os"
   ]
  },
  {
   "cell_type": "code",
   "execution_count": 18,
   "metadata": {},
   "outputs": [
    {
     "data": {
      "text/plain": [
       "'/home/mrastgoo/Documents/courses/B31XB-IIP-TP-1718/0-0-intoduction-python'"
      ]
     },
     "execution_count": 18,
     "metadata": {},
     "output_type": "execute_result"
    }
   ],
   "source": [
    "os.getcwd()"
   ]
  },
  {
   "cell_type": "code",
   "execution_count": 19,
   "metadata": {},
   "outputs": [
    {
     "data": {
      "text/plain": [
       "['05_input_output.ipynb',\n",
       " '__solved__05_input_output.ipynb',\n",
       " 'basic_operations.py',\n",
       " '__solved__04_reusing_code.ipynb',\n",
       " '00_jupyter_introduction.ipynb',\n",
       " '__solved__02_control_flow.ipynb',\n",
       " 'oldfile',\n",
       " '03_functions.ipynb',\n",
       " 'operation.py',\n",
       " '01_basic_types.ipynb',\n",
       " '06_standard_library.ipynb',\n",
       " '___solved__01_basic_types.ipynb',\n",
       " '02_control_flow.ipynb',\n",
       " 'newfile',\n",
       " 'README.md',\n",
       " '04_reusing_code.ipynb',\n",
       " '__pycache__',\n",
       " 'LICENSE',\n",
       " '.ipynb_checkpoints',\n",
       " 'images',\n",
       " '__solved__03_functions.ipynb',\n",
       " 'welcome_message.py',\n",
       " '__solved__07_classes.ipynb',\n",
       " 'data.txt',\n",
       " '__solved__06_standard_library.ipynb']"
      ]
     },
     "execution_count": 19,
     "metadata": {},
     "output_type": "execute_result"
    }
   ],
   "source": [
    "os.listdir()"
   ]
  },
  {
   "cell_type": "markdown",
   "metadata": {},
   "source": [
    "<div class=\"alert alert-success\">\n",
    "\n",
    "<b>EXERCISE</b>:\n",
    "\n",
    "Using the documentation of `os`, do the following instructions:\n",
    "    \n",
    "<ul>\n",
    "  <li>Make a directory;</li>\n",
    "  <li>Rename this directory;</li>\n",
    "  <li>Create file and write inside it;</li>\n",
    "  <li>Remove the file.</li>\n",
    "</ul>\n",
    "\n",
    "</div>"
   ]
  },
  {
   "cell_type": "code",
   "execution_count": null,
   "metadata": {},
   "outputs": [],
   "source": []
  },
  {
   "cell_type": "code",
   "execution_count": null,
   "metadata": {},
   "outputs": [],
   "source": []
  },
  {
   "cell_type": "code",
   "execution_count": null,
   "metadata": {},
   "outputs": [],
   "source": []
  },
  {
   "cell_type": "markdown",
   "metadata": {},
   "source": [
    "## os.path: path manipulations"
   ]
  },
  {
   "cell_type": "markdown",
   "metadata": {},
   "source": [
    "<div class=\"alert alert-success\">\n",
    "\n",
    "<b>EXERCISE</b>:\n",
    "\n",
    "Using the documentation of `os.path`, do the following instructions:\n",
    "    \n",
    "<ul>\n",
    "  <li>Using open create file and write inside it;</li>\n",
    "  <li>Get the absolute path of the file that you created;</li>\n",
    "  <li>Split the filename and the path into two strings;</li>\n",
    "  <li>Split the extension from the filename;</li>\n",
    "  <li>Check that the path (to the file for instance) is a directory or a path.</li>\n",
    "</ul>\n",
    "\n",
    "</div>"
   ]
  },
  {
   "cell_type": "code",
   "execution_count": null,
   "metadata": {},
   "outputs": [],
   "source": []
  },
  {
   "cell_type": "code",
   "execution_count": null,
   "metadata": {},
   "outputs": [],
   "source": []
  },
  {
   "cell_type": "code",
   "execution_count": null,
   "metadata": {},
   "outputs": [],
   "source": []
  },
  {
   "cell_type": "code",
   "execution_count": null,
   "metadata": {},
   "outputs": [],
   "source": []
  },
  {
   "cell_type": "code",
   "execution_count": null,
   "metadata": {},
   "outputs": [],
   "source": []
  },
  {
   "cell_type": "markdown",
   "metadata": {},
   "source": [
    "## Walking into directory"
   ]
  },
  {
   "cell_type": "code",
   "execution_count": 42,
   "metadata": {},
   "outputs": [
    {
     "name": "stdout",
     "output_type": "stream",
     "text": [
      "/home/mrastgoo/Documents/courses/B31XB-IIP-TP-1718/0-0-intoduction-python/05_input_output.ipynb\n",
      "/home/mrastgoo/Documents/courses/B31XB-IIP-TP-1718/0-0-intoduction-python/__solved__05_input_output.ipynb\n",
      "/home/mrastgoo/Documents/courses/B31XB-IIP-TP-1718/0-0-intoduction-python/basic_operations.py\n",
      "/home/mrastgoo/Documents/courses/B31XB-IIP-TP-1718/0-0-intoduction-python/__solved__04_reusing_code.ipynb\n",
      "/home/mrastgoo/Documents/courses/B31XB-IIP-TP-1718/0-0-intoduction-python/00_jupyter_introduction.ipynb\n",
      "/home/mrastgoo/Documents/courses/B31XB-IIP-TP-1718/0-0-intoduction-python/__solved__02_control_flow.ipynb\n",
      "/home/mrastgoo/Documents/courses/B31XB-IIP-TP-1718/0-0-intoduction-python/03_functions.ipynb\n",
      "/home/mrastgoo/Documents/courses/B31XB-IIP-TP-1718/0-0-intoduction-python/operation.py\n",
      "/home/mrastgoo/Documents/courses/B31XB-IIP-TP-1718/0-0-intoduction-python/01_basic_types.ipynb\n",
      "/home/mrastgoo/Documents/courses/B31XB-IIP-TP-1718/0-0-intoduction-python/06_standard_library.ipynb\n",
      "/home/mrastgoo/Documents/courses/B31XB-IIP-TP-1718/0-0-intoduction-python/___solved__01_basic_types.ipynb\n",
      "/home/mrastgoo/Documents/courses/B31XB-IIP-TP-1718/0-0-intoduction-python/02_control_flow.ipynb\n",
      "/home/mrastgoo/Documents/courses/B31XB-IIP-TP-1718/0-0-intoduction-python/README.md\n",
      "/home/mrastgoo/Documents/courses/B31XB-IIP-TP-1718/0-0-intoduction-python/04_reusing_code.ipynb\n",
      "/home/mrastgoo/Documents/courses/B31XB-IIP-TP-1718/0-0-intoduction-python/LICENSE\n",
      "/home/mrastgoo/Documents/courses/B31XB-IIP-TP-1718/0-0-intoduction-python/__solved__03_functions.ipynb\n",
      "/home/mrastgoo/Documents/courses/B31XB-IIP-TP-1718/0-0-intoduction-python/welcome_message.py\n",
      "/home/mrastgoo/Documents/courses/B31XB-IIP-TP-1718/0-0-intoduction-python/__solved__07_classes.ipynb\n",
      "/home/mrastgoo/Documents/courses/B31XB-IIP-TP-1718/0-0-intoduction-python/data.txt\n",
      "/home/mrastgoo/Documents/courses/B31XB-IIP-TP-1718/0-0-intoduction-python/__solved__06_standard_library.ipynb\n",
      "/home/mrastgoo/Documents/courses/B31XB-IIP-TP-1718/0-0-intoduction-python/file.txt\n",
      "/home/mrastgoo/Documents/courses/B31XB-IIP-TP-1718/0-0-intoduction-python/basic_operations.cpython-36.pyc\n",
      "/home/mrastgoo/Documents/courses/B31XB-IIP-TP-1718/0-0-intoduction-python/operation.cpython-36.pyc\n",
      "/home/mrastgoo/Documents/courses/B31XB-IIP-TP-1718/0-0-intoduction-python/operators.cpython-36.pyc\n",
      "/home/mrastgoo/Documents/courses/B31XB-IIP-TP-1718/0-0-intoduction-python/__solved__03_functions-checkpoint.ipynb\n",
      "/home/mrastgoo/Documents/courses/B31XB-IIP-TP-1718/0-0-intoduction-python/__solved__06_standard_library-checkpoint.ipynb\n",
      "/home/mrastgoo/Documents/courses/B31XB-IIP-TP-1718/0-0-intoduction-python/welcome_message-checkpoint.py\n",
      "/home/mrastgoo/Documents/courses/B31XB-IIP-TP-1718/0-0-intoduction-python/operation-checkpoint.py\n",
      "/home/mrastgoo/Documents/courses/B31XB-IIP-TP-1718/0-0-intoduction-python/__solved__02_control_flow-checkpoint.ipynb\n",
      "/home/mrastgoo/Documents/courses/B31XB-IIP-TP-1718/0-0-intoduction-python/__solved__04_reusing_code-checkpoint.ipynb\n",
      "/home/mrastgoo/Documents/courses/B31XB-IIP-TP-1718/0-0-intoduction-python/05_input_output-checkpoint.ipynb\n",
      "/home/mrastgoo/Documents/courses/B31XB-IIP-TP-1718/0-0-intoduction-python/03_functions-checkpoint.ipynb\n",
      "/home/mrastgoo/Documents/courses/B31XB-IIP-TP-1718/0-0-intoduction-python/04_reusing_code-checkpoint.ipynb\n",
      "/home/mrastgoo/Documents/courses/B31XB-IIP-TP-1718/0-0-intoduction-python/__solved__05_input_output-checkpoint.ipynb\n",
      "/home/mrastgoo/Documents/courses/B31XB-IIP-TP-1718/0-0-intoduction-python/02_control_flow-checkpoint.ipynb\n",
      "/home/mrastgoo/Documents/courses/B31XB-IIP-TP-1718/0-0-intoduction-python/basic_operations-checkpoint.py\n",
      "/home/mrastgoo/Documents/courses/B31XB-IIP-TP-1718/0-0-intoduction-python/01_basic_types-checkpoint.ipynb\n",
      "/home/mrastgoo/Documents/courses/B31XB-IIP-TP-1718/0-0-intoduction-python/00_jupyter_introduction-checkpoint.ipynb\n",
      "/home/mrastgoo/Documents/courses/B31XB-IIP-TP-1718/0-0-intoduction-python/README-checkpoint.md\n",
      "/home/mrastgoo/Documents/courses/B31XB-IIP-TP-1718/0-0-intoduction-python/___solved__01_basic_types-checkpoint.ipynb\n",
      "/home/mrastgoo/Documents/courses/B31XB-IIP-TP-1718/0-0-intoduction-python/check_env-1.png\n",
      "/home/mrastgoo/Documents/courses/B31XB-IIP-TP-1718/0-0-intoduction-python/check_env-2.png\n",
      "/home/mrastgoo/Documents/courses/B31XB-IIP-TP-1718/0-0-intoduction-python/ipython_help-1.png\n",
      "/home/mrastgoo/Documents/courses/B31XB-IIP-TP-1718/0-0-intoduction-python/ipython_help-2.png\n",
      "/home/mrastgoo/Documents/courses/B31XB-IIP-TP-1718/0-0-intoduction-python/download-repo.png\n",
      "/home/mrastgoo/Documents/courses/B31XB-IIP-TP-1718/0-0-intoduction-python/ipython_run_cell.png\n"
     ]
    }
   ],
   "source": [
    "for dirpath, dirnames, filenames in os.walk(os.curdir):\n",
    "    for fp in filenames:\n",
    "        print(os.path.abspath(fp))"
   ]
  },
  {
   "cell_type": "markdown",
   "metadata": {},
   "source": [
    "## glob: Pattern matching on files"
   ]
  },
  {
   "cell_type": "markdown",
   "metadata": {},
   "source": [
    "<div class=\"alert alert-success\">\n",
    "\n",
    "<b>EXERCISE</b>:\n",
    "\n",
    "Use `glob` to filter all the `*.ipynb` notebook filename.\n",
    "\n",
    "</div>"
   ]
  },
  {
   "cell_type": "code",
   "execution_count": null,
   "metadata": {},
   "outputs": [],
   "source": []
  },
  {
   "cell_type": "code",
   "execution_count": null,
   "metadata": {},
   "outputs": [],
   "source": []
  }
 ],
 "metadata": {
  "kernelspec": {
   "display_name": "Python 3",
   "language": "python",
   "name": "python3"
  },
  "language_info": {
   "codemirror_mode": {
    "name": "ipython",
    "version": 3
   },
   "file_extension": ".py",
   "mimetype": "text/x-python",
   "name": "python",
   "nbconvert_exporter": "python",
   "pygments_lexer": "ipython3",
   "version": "3.6.6"
  }
 },
 "nbformat": 4,
 "nbformat_minor": 2
}
