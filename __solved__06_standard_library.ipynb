{
 "cells": [
  {
   "cell_type": "markdown",
   "metadata": {},
   "source": [
    "# Standard libraries"
   ]
  },
  {
   "cell_type": "markdown",
   "metadata": {},
   "source": [
    "## `os` module: operating system functionality"
   ]
  },
  {
   "cell_type": "code",
   "execution_count": 1,
   "metadata": {
    "collapsed": true
   },
   "outputs": [],
   "source": [
    "import os"
   ]
  },
  {
   "cell_type": "code",
   "execution_count": 2,
   "metadata": {},
   "outputs": [
    {
     "data": {
      "text/plain": [
       "'/home/mrastgoo/Documents/courses/euroscipy18-intro-python'"
      ]
     },
     "execution_count": 2,
     "metadata": {},
     "output_type": "execute_result"
    }
   ],
   "source": [
    "os.getcwd()"
   ]
  },
  {
   "cell_type": "code",
   "execution_count": 3,
   "metadata": {},
   "outputs": [
    {
     "data": {
      "text/plain": [
       "['05_input_output.ipynb',\n",
       " '__solved__05_input_output.ipynb',\n",
       " '__solved__04_reusing_code.ipynb',\n",
       " '.gitignore',\n",
       " '_solved__06_standard_library.ipynb',\n",
       " '00_jupyter_introduction.ipynb',\n",
       " '__solved__02_control_flow.ipynb',\n",
       " 'tmp2',\n",
       " '03_functions.ipynb',\n",
       " '.git',\n",
       " '01_basic_types.ipynb',\n",
       " '06_standard_library.ipynb',\n",
       " '__solved__01_basic_types.ipynb',\n",
       " '02_control_flow.ipynb',\n",
       " 'README.md',\n",
       " '04_reusing_code.ipynb',\n",
       " '.ipynb_checkpoints',\n",
       " 'images',\n",
       " '__solved__04_operation.py',\n",
       " '__solved__04_welcome_message.py',\n",
       " '__solved__03_functions.ipynb',\n",
       " '__solved__04_basic_operations.py',\n",
       " 'data.txt',\n",
       " '__solved__06_standard_library.ipynb',\n",
       " '07_object_oriented_programming.ipynb']"
      ]
     },
     "execution_count": 3,
     "metadata": {},
     "output_type": "execute_result"
    }
   ],
   "source": [
    "os.listdir()"
   ]
  },
  {
   "cell_type": "markdown",
   "metadata": {},
   "source": [
    "<div class=\"alert alert-success\">\n",
    "\n",
    "<b>EXERCISE</b>:\n",
    "\n",
    "Using the documentation of `os`, do the following instructions:\n",
    "    \n",
    "<ul>\n",
    "  <li>Make a directory;</li>\n",
    "  <li>Rename this directory;</li>\n",
    "  <li>Create file and write inside it;</li>\n",
    "  <li>Remove the file.</li>\n",
    "</ul>\n",
    "\n",
    "</div>"
   ]
  },
  {
   "cell_type": "code",
   "execution_count": 4,
   "metadata": {},
   "outputs": [],
   "source": [
    "os.mkdir('tmp')"
   ]
  },
  {
   "cell_type": "code",
   "execution_count": null,
   "metadata": {},
   "outputs": [],
   "source": [
    "os.rename('tmp', 'tmp2')"
   ]
  },
  {
   "cell_type": "code",
   "execution_count": 6,
   "metadata": {},
   "outputs": [],
   "source": [
    "with open('tmp2/file.txt', 'w') as f:\n",
    "    f.writelines('First line\\n')"
   ]
  },
  {
   "cell_type": "code",
   "execution_count": 7,
   "metadata": {},
   "outputs": [],
   "source": [
    "os.remove('tmp2/file.txt')"
   ]
  },
  {
   "cell_type": "markdown",
   "metadata": {},
   "source": [
    "## os.path: path manipulations"
   ]
  },
  {
   "cell_type": "markdown",
   "metadata": {},
   "source": [
    "<div class=\"alert alert-success\">\n",
    "\n",
    "<b>EXERCISE</b>:\n",
    "\n",
    "Using the documentation of `os.path`, do the following instructions:\n",
    "    \n",
    "<ul>\n",
    "  <li>Using open create file and write inside it;</li>\n",
    "  <li>Get the absolute path of the file that you created;</li>\n",
    "  <li>Split the filename and the path into two strings;</li>\n",
    "  <li>Split the extension from the filename;</li>\n",
    "  <li>Check that the path (to the file for instance) is a directory or a path.</li>\n",
    "</ul>\n",
    "\n",
    "</div>"
   ]
  },
  {
   "cell_type": "code",
   "execution_count": 8,
   "metadata": {},
   "outputs": [],
   "source": [
    "with open('tmp2/file.txt', 'w') as f:\n",
    "    f.writelines('This is a new file, new line \\n')"
   ]
  },
  {
   "cell_type": "code",
   "execution_count": 9,
   "metadata": {},
   "outputs": [],
   "source": [
    "path  = os.path.join('tmp2', 'file.txt')"
   ]
  },
  {
   "cell_type": "code",
   "execution_count": 10,
   "metadata": {},
   "outputs": [],
   "source": [
    "abspath = os.path.abspath(path)"
   ]
  },
  {
   "cell_type": "code",
   "execution_count": 11,
   "metadata": {},
   "outputs": [
    {
     "data": {
      "text/plain": [
       "'/home/mrastgoo/Documents/courses/euroscipy18-intro-python/tmp2/file.txt'"
      ]
     },
     "execution_count": 11,
     "metadata": {},
     "output_type": "execute_result"
    }
   ],
   "source": [
    "abspath"
   ]
  },
  {
   "cell_type": "code",
   "execution_count": 12,
   "metadata": {},
   "outputs": [
    {
     "name": "stdout",
     "output_type": "stream",
     "text": [
      "/home/mrastgoo/Documents/courses/euroscipy18-intro-python/tmp2\n",
      "file.txt\n"
     ]
    }
   ],
   "source": [
    "p, f = os.path.split(abspath)\n",
    "print(p)\n",
    "print(f)"
   ]
  },
  {
   "cell_type": "code",
   "execution_count": 13,
   "metadata": {},
   "outputs": [
    {
     "data": {
      "text/plain": [
       "False"
      ]
     },
     "execution_count": 13,
     "metadata": {},
     "output_type": "execute_result"
    }
   ],
   "source": [
    "os.path.isdir(abspath)"
   ]
  },
  {
   "cell_type": "code",
   "execution_count": 14,
   "metadata": {},
   "outputs": [
    {
     "data": {
      "text/plain": [
       "True"
      ]
     },
     "execution_count": 14,
     "metadata": {},
     "output_type": "execute_result"
    }
   ],
   "source": [
    "os.path.isfile(abspath)"
   ]
  },
  {
   "cell_type": "markdown",
   "metadata": {},
   "source": [
    "## Walking into directory"
   ]
  },
  {
   "cell_type": "code",
   "execution_count": 15,
   "metadata": {},
   "outputs": [
    {
     "name": "stdout",
     "output_type": "stream",
     "text": [
      "/home/mrastgoo/Documents/courses/euroscipy18-intro-python/05_input_output.ipynb\n",
      "/home/mrastgoo/Documents/courses/euroscipy18-intro-python/__solved__05_input_output.ipynb\n",
      "/home/mrastgoo/Documents/courses/euroscipy18-intro-python/__solved__04_reusing_code.ipynb\n",
      "/home/mrastgoo/Documents/courses/euroscipy18-intro-python/.gitignore\n",
      "/home/mrastgoo/Documents/courses/euroscipy18-intro-python/_solved__06_standard_library.ipynb\n",
      "/home/mrastgoo/Documents/courses/euroscipy18-intro-python/00_jupyter_introduction.ipynb\n",
      "/home/mrastgoo/Documents/courses/euroscipy18-intro-python/__solved__02_control_flow.ipynb\n",
      "/home/mrastgoo/Documents/courses/euroscipy18-intro-python/03_functions.ipynb\n",
      "/home/mrastgoo/Documents/courses/euroscipy18-intro-python/01_basic_types.ipynb\n",
      "/home/mrastgoo/Documents/courses/euroscipy18-intro-python/06_standard_library.ipynb\n",
      "/home/mrastgoo/Documents/courses/euroscipy18-intro-python/__solved__01_basic_types.ipynb\n",
      "/home/mrastgoo/Documents/courses/euroscipy18-intro-python/02_control_flow.ipynb\n",
      "/home/mrastgoo/Documents/courses/euroscipy18-intro-python/README.md\n",
      "/home/mrastgoo/Documents/courses/euroscipy18-intro-python/04_reusing_code.ipynb\n",
      "/home/mrastgoo/Documents/courses/euroscipy18-intro-python/__solved__04_operation.py\n",
      "/home/mrastgoo/Documents/courses/euroscipy18-intro-python/__solved__04_welcome_message.py\n",
      "/home/mrastgoo/Documents/courses/euroscipy18-intro-python/__solved__03_functions.ipynb\n",
      "/home/mrastgoo/Documents/courses/euroscipy18-intro-python/__solved__04_basic_operations.py\n",
      "/home/mrastgoo/Documents/courses/euroscipy18-intro-python/data.txt\n",
      "/home/mrastgoo/Documents/courses/euroscipy18-intro-python/__solved__06_standard_library.ipynb\n",
      "/home/mrastgoo/Documents/courses/euroscipy18-intro-python/07_object_oriented_programming.ipynb\n",
      "/home/mrastgoo/Documents/courses/euroscipy18-intro-python/file.txt\n",
      "/home/mrastgoo/Documents/courses/euroscipy18-intro-python/index\n",
      "/home/mrastgoo/Documents/courses/euroscipy18-intro-python/config\n",
      "/home/mrastgoo/Documents/courses/euroscipy18-intro-python/description\n",
      "/home/mrastgoo/Documents/courses/euroscipy18-intro-python/COMMIT_EDITMSG\n",
      "/home/mrastgoo/Documents/courses/euroscipy18-intro-python/HEAD\n",
      "/home/mrastgoo/Documents/courses/euroscipy18-intro-python/master\n",
      "/home/mrastgoo/Documents/courses/euroscipy18-intro-python/master\n",
      "/home/mrastgoo/Documents/courses/euroscipy18-intro-python/pre-receive.sample\n",
      "/home/mrastgoo/Documents/courses/euroscipy18-intro-python/pre-push.sample\n",
      "/home/mrastgoo/Documents/courses/euroscipy18-intro-python/fsmonitor-watchman.sample\n",
      "/home/mrastgoo/Documents/courses/euroscipy18-intro-python/pre-applypatch.sample\n",
      "/home/mrastgoo/Documents/courses/euroscipy18-intro-python/commit-msg.sample\n",
      "/home/mrastgoo/Documents/courses/euroscipy18-intro-python/pre-commit.sample\n",
      "/home/mrastgoo/Documents/courses/euroscipy18-intro-python/pre-rebase.sample\n",
      "/home/mrastgoo/Documents/courses/euroscipy18-intro-python/update.sample\n",
      "/home/mrastgoo/Documents/courses/euroscipy18-intro-python/prepare-commit-msg.sample\n",
      "/home/mrastgoo/Documents/courses/euroscipy18-intro-python/applypatch-msg.sample\n",
      "/home/mrastgoo/Documents/courses/euroscipy18-intro-python/post-update.sample\n",
      "/home/mrastgoo/Documents/courses/euroscipy18-intro-python/HEAD\n",
      "/home/mrastgoo/Documents/courses/euroscipy18-intro-python/master\n",
      "/home/mrastgoo/Documents/courses/euroscipy18-intro-python/master\n",
      "/home/mrastgoo/Documents/courses/euroscipy18-intro-python/exclude\n",
      "/home/mrastgoo/Documents/courses/euroscipy18-intro-python/fb81df9882a4358a00f0ea58587f1224372b3e\n",
      "/home/mrastgoo/Documents/courses/euroscipy18-intro-python/da2704aafbd1173cd68636485a4ff6aecea9a0\n",
      "/home/mrastgoo/Documents/courses/euroscipy18-intro-python/4ba7ede4df1f51cccf0d68718fc67164ae595e\n",
      "/home/mrastgoo/Documents/courses/euroscipy18-intro-python/819c88257c0c6bdf96534d4791f7fa23c858bf\n",
      "/home/mrastgoo/Documents/courses/euroscipy18-intro-python/d8c5bb65f9b4b7482bf6bcc5d0bf36d059fdde\n",
      "/home/mrastgoo/Documents/courses/euroscipy18-intro-python/8393f741f3448478b99f1175294b1b1b865389\n",
      "/home/mrastgoo/Documents/courses/euroscipy18-intro-python/45796da4dc261711eb3cc7013d406816847064\n",
      "/home/mrastgoo/Documents/courses/euroscipy18-intro-python/6c60e93d1df36710063902c75c33dd3967aaab\n",
      "/home/mrastgoo/Documents/courses/euroscipy18-intro-python/4954b4c8528e4fafe3933f7b45d39aa53a1e60\n",
      "/home/mrastgoo/Documents/courses/euroscipy18-intro-python/51433323e5ee67c59c7eaecba8df08ecdcefaf\n",
      "/home/mrastgoo/Documents/courses/euroscipy18-intro-python/4294634a5a21bca381736138971e932c13e953\n",
      "/home/mrastgoo/Documents/courses/euroscipy18-intro-python/ef5c8ff685f460f3ba3ca8b6288241f5b593ee\n",
      "/home/mrastgoo/Documents/courses/euroscipy18-intro-python/87048f0c3ee90edce29a663985e6911585891d\n",
      "/home/mrastgoo/Documents/courses/euroscipy18-intro-python/9600dbc1ecb409ce03e2eaa8229dfce57b6f2c\n",
      "/home/mrastgoo/Documents/courses/euroscipy18-intro-python/6f7d65d7d4d2f3a37f74d9c1ce45b12356b23e\n",
      "/home/mrastgoo/Documents/courses/euroscipy18-intro-python/d2247849374af0381de122c756f9b054147dc2\n",
      "/home/mrastgoo/Documents/courses/euroscipy18-intro-python/6ed4e44c8ec71eeace5d137beccd16e6447d27\n",
      "/home/mrastgoo/Documents/courses/euroscipy18-intro-python/fe104e2aa18ed876950f720af84e77d02bc006\n",
      "/home/mrastgoo/Documents/courses/euroscipy18-intro-python/bc71c09205c78d790739d246bbe4f9f1881c17\n",
      "/home/mrastgoo/Documents/courses/euroscipy18-intro-python/e236e0af62e93c8b5cf71fcefec324d40b13a3\n",
      "/home/mrastgoo/Documents/courses/euroscipy18-intro-python/bc271b0d13fa1d35377676fa9b044719a88be4\n",
      "/home/mrastgoo/Documents/courses/euroscipy18-intro-python/fed160e6c44a309cb2ef659fd723fb69ca6142\n",
      "/home/mrastgoo/Documents/courses/euroscipy18-intro-python/5d35f20c74cb4785cd3130e9b4580c0efcc9d9\n",
      "/home/mrastgoo/Documents/courses/euroscipy18-intro-python/8a06f4ac2662de358f7c5e196915f66e1aa7d0\n",
      "/home/mrastgoo/Documents/courses/euroscipy18-intro-python/1cacdd753d3d82198927b6a50429b2021c4554\n",
      "/home/mrastgoo/Documents/courses/euroscipy18-intro-python/35fda1b6526ac2a034cf7b15f05468980bd2e5\n",
      "/home/mrastgoo/Documents/courses/euroscipy18-intro-python/1abd9d5b8af984ecad8c325cebd03b92cfe26a\n",
      "/home/mrastgoo/Documents/courses/euroscipy18-intro-python/8c89c219446877387a0d4a54c424a3f4fbfde6\n",
      "/home/mrastgoo/Documents/courses/euroscipy18-intro-python/bc9df4c82745eee123723cba14859d5024b6cb\n",
      "/home/mrastgoo/Documents/courses/euroscipy18-intro-python/2f6e951183a988b1aa6e014db4c90fbe09db02\n",
      "/home/mrastgoo/Documents/courses/euroscipy18-intro-python/6ebe9986643cd15a413d1f906cd0a984e43e20\n",
      "/home/mrastgoo/Documents/courses/euroscipy18-intro-python/d93acc407d7ce9fa5fd231e0a052a0158bcce1\n",
      "/home/mrastgoo/Documents/courses/euroscipy18-intro-python/e1d09680de351242d974c89e4e5c5d9356a1b9\n",
      "/home/mrastgoo/Documents/courses/euroscipy18-intro-python/04bc3bca06d0dac0af98de5271756f0219b307\n",
      "/home/mrastgoo/Documents/courses/euroscipy18-intro-python/1f0ae40189c5b11cc2037daaa3d247c9cd29be\n",
      "/home/mrastgoo/Documents/courses/euroscipy18-intro-python/54dd86ac8c34511d46cf69c01928947013c9cb\n",
      "/home/mrastgoo/Documents/courses/euroscipy18-intro-python/3186ff1a272b3602cb531fdb113a377bc4d028\n",
      "/home/mrastgoo/Documents/courses/euroscipy18-intro-python/3799055f49be70409964668b64da8a4bf341d0\n",
      "/home/mrastgoo/Documents/courses/euroscipy18-intro-python/cc93cfcd1bb856fb45dbad1022168e3a746623\n",
      "/home/mrastgoo/Documents/courses/euroscipy18-intro-python/967121e25a0e004952e6b68f855f4d670e1e72\n",
      "/home/mrastgoo/Documents/courses/euroscipy18-intro-python/0ac4023f4f50f24b0cb7ef616a323cac328743\n",
      "/home/mrastgoo/Documents/courses/euroscipy18-intro-python/93773aad4f6b89ac539fe5297f4241e2de664c\n",
      "/home/mrastgoo/Documents/courses/euroscipy18-intro-python/4d6d81ad5b1244eb2ba5da3fce5dcaad8dc728\n",
      "/home/mrastgoo/Documents/courses/euroscipy18-intro-python/f3619926a037cab0c97932fa0cbe656e187cf1\n",
      "/home/mrastgoo/Documents/courses/euroscipy18-intro-python/ae6e44b3587bc7df28f6b3c0fe5a1c1b418b0e\n",
      "/home/mrastgoo/Documents/courses/euroscipy18-intro-python/f91b0085ad58035823f9073b639bc6b2423af9\n",
      "/home/mrastgoo/Documents/courses/euroscipy18-intro-python/__solved__03_functions-checkpoint.ipynb\n",
      "/home/mrastgoo/Documents/courses/euroscipy18-intro-python/06_standard_library-checkpoint.ipynb\n",
      "/home/mrastgoo/Documents/courses/euroscipy18-intro-python/__solved__06_standard_library-checkpoint.ipynb\n",
      "/home/mrastgoo/Documents/courses/euroscipy18-intro-python/__solved__01_basic_types-checkpoint.ipynb\n",
      "/home/mrastgoo/Documents/courses/euroscipy18-intro-python/__solved__02_control_flow-checkpoint.ipynb\n",
      "/home/mrastgoo/Documents/courses/euroscipy18-intro-python/__solved__04_reusing_code-checkpoint.ipynb\n",
      "/home/mrastgoo/Documents/courses/euroscipy18-intro-python/07_object_oriented_programming-checkpoint.ipynb\n",
      "/home/mrastgoo/Documents/courses/euroscipy18-intro-python/05_input_output-checkpoint.ipynb\n",
      "/home/mrastgoo/Documents/courses/euroscipy18-intro-python/_solved__06_standard_library-checkpoint.ipynb\n",
      "/home/mrastgoo/Documents/courses/euroscipy18-intro-python/03_functions-checkpoint.ipynb\n",
      "/home/mrastgoo/Documents/courses/euroscipy18-intro-python/04_reusing_code-checkpoint.ipynb\n",
      "/home/mrastgoo/Documents/courses/euroscipy18-intro-python/__solved__05_input_output-checkpoint.ipynb\n",
      "/home/mrastgoo/Documents/courses/euroscipy18-intro-python/02_control_flow-checkpoint.ipynb\n",
      "/home/mrastgoo/Documents/courses/euroscipy18-intro-python/01_basic_types-checkpoint.ipynb\n",
      "/home/mrastgoo/Documents/courses/euroscipy18-intro-python/00_jupyter_introduction-checkpoint.ipynb\n",
      "/home/mrastgoo/Documents/courses/euroscipy18-intro-python/README-checkpoint.md\n",
      "/home/mrastgoo/Documents/courses/euroscipy18-intro-python/check_env-1.png\n",
      "/home/mrastgoo/Documents/courses/euroscipy18-intro-python/check_env-2.png\n",
      "/home/mrastgoo/Documents/courses/euroscipy18-intro-python/ipython_help-1.png\n",
      "/home/mrastgoo/Documents/courses/euroscipy18-intro-python/ipython_help-2.png\n",
      "/home/mrastgoo/Documents/courses/euroscipy18-intro-python/download-repo.png\n",
      "/home/mrastgoo/Documents/courses/euroscipy18-intro-python/ipython_run_cell.png\n"
     ]
    }
   ],
   "source": [
    "for dirpath, dirnames, filenames in os.walk(os.curdir):\n",
    "    for fp in filenames:\n",
    "        print(os.path.abspath(fp))"
   ]
  },
  {
   "cell_type": "markdown",
   "metadata": {},
   "source": [
    "## glob: Pattern matching on files"
   ]
  },
  {
   "cell_type": "markdown",
   "metadata": {},
   "source": [
    "<div class=\"alert alert-success\">\n",
    "\n",
    "<b>EXERCISE</b>:\n",
    "\n",
    "Use `glob` to filter all the `*.ipynb` notebook filename.\n",
    "\n",
    "</div>"
   ]
  },
  {
   "cell_type": "code",
   "execution_count": 16,
   "metadata": {},
   "outputs": [],
   "source": [
    "from glob import glob"
   ]
  },
  {
   "cell_type": "code",
   "execution_count": 17,
   "metadata": {},
   "outputs": [
    {
     "data": {
      "text/plain": [
       "['05_input_output.ipynb',\n",
       " '__solved__05_input_output.ipynb',\n",
       " '__solved__04_reusing_code.ipynb',\n",
       " '_solved__06_standard_library.ipynb',\n",
       " '00_jupyter_introduction.ipynb',\n",
       " '__solved__02_control_flow.ipynb',\n",
       " '03_functions.ipynb',\n",
       " '01_basic_types.ipynb',\n",
       " '06_standard_library.ipynb',\n",
       " '__solved__01_basic_types.ipynb',\n",
       " '02_control_flow.ipynb',\n",
       " '04_reusing_code.ipynb',\n",
       " '__solved__03_functions.ipynb',\n",
       " '__solved__06_standard_library.ipynb',\n",
       " '07_object_oriented_programming.ipynb']"
      ]
     },
     "execution_count": 17,
     "metadata": {},
     "output_type": "execute_result"
    }
   ],
   "source": [
    "glob('*.ipynb')"
   ]
  },
  {
   "cell_type": "code",
   "execution_count": null,
   "metadata": {},
   "outputs": [],
   "source": []
  },
  {
   "cell_type": "code",
   "execution_count": null,
   "metadata": {},
   "outputs": [],
   "source": []
  }
 ],
 "metadata": {
  "kernelspec": {
   "display_name": "Python 3",
   "language": "python",
   "name": "python3"
  },
  "language_info": {
   "codemirror_mode": {
    "name": "ipython",
    "version": 3
   },
   "file_extension": ".py",
   "mimetype": "text/x-python",
   "name": "python",
   "nbconvert_exporter": "python",
   "pygments_lexer": "ipython3",
   "version": "3.6.6"
  }
 },
 "nbformat": 4,
 "nbformat_minor": 2
}
