{
 "cells": [
  {
   "cell_type": "markdown",
   "metadata": {},
   "source": [
    "# Object-oriented programming (OOP)\n",
    "\n",
    "Python supports object-oriented programming (OOP). The goals of OOP are:\n",
    "\n",
    "- to organize the code, and\n",
    "- to re-use code in similar contexts.\n",
    "\n",
    "Class objects has attributes (variables) and methods (functions) \n",
    "New class can be created inheriting from other classes. \n",
    "\n",
    "We will create:\n",
    "* `Student` Class\n",
    "* `MasterStudent` class which inherits from `Student` class"
   ]
  },
  {
   "cell_type": "markdown",
   "metadata": {},
   "source": [
    "## Student"
   ]
  },
  {
   "cell_type": "code",
   "execution_count": 79,
   "metadata": {
    "collapsed": true
   },
   "outputs": [],
   "source": [
    "class Student():\n",
    "    def __init__(self, first, last, major='computer science'):\n",
    "        self.first = first\n",
    "        self.last = last\n",
    "        self.major = major\n",
    "    def set_age(self, age):\n",
    "        self.age = age\n",
    "    \n",
    "    def __repr__(self):\n",
    "        return '{} {}, major: {}'.format(self.first, self.last, self.major)\n",
    "    \n",
    "        "
   ]
  },
  {
   "cell_type": "code",
   "execution_count": 80,
   "metadata": {},
   "outputs": [],
   "source": [
    "student1 = Student('Jonh', 'Doe')"
   ]
  },
  {
   "cell_type": "code",
   "execution_count": 81,
   "metadata": {},
   "outputs": [
    {
     "data": {
      "text/plain": [
       "23"
      ]
     },
     "execution_count": 81,
     "metadata": {},
     "output_type": "execute_result"
    }
   ],
   "source": [
    "student1.set_age(23)\n",
    "student1.age"
   ]
  },
  {
   "cell_type": "code",
   "execution_count": 82,
   "metadata": {},
   "outputs": [
    {
     "data": {
      "text/plain": [
       "Jonh Doe, major: computer science"
      ]
     },
     "execution_count": 82,
     "metadata": {},
     "output_type": "execute_result"
    }
   ],
   "source": [
    "student1"
   ]
  },
  {
   "cell_type": "markdown",
   "metadata": {},
   "source": [
    "## MasterStudent"
   ]
  },
  {
   "cell_type": "code",
   "execution_count": 89,
   "metadata": {},
   "outputs": [],
   "source": [
    "class MasterStudent(Student):\n",
    "    def __init__(self, first, last, specialty, major='computer science'):\n",
    "        Student.__init__(self, first, last, major=major)\n",
    "        self.specialty = specialty\n",
    "\n",
    "    def get_internship(self, internship):\n",
    "        self.internship = internship\n",
    "        \n",
    "    def __repr__(self):\n",
    "        return '{} {}, major: {}, specialty: {}'.format(self.first, self.last, self.major, self.specialty)\n",
    "    \n",
    "    def __str__(self):\n",
    "        return (\"{} {} is studing {} \".format(self.first, self.last, self.major))\n",
    "\n",
    "    "
   ]
  },
  {
   "cell_type": "code",
   "execution_count": 90,
   "metadata": {},
   "outputs": [],
   "source": [
    "master_student1 = MasterStudent('Jonh', 'Doe', 'Image processing')"
   ]
  },
  {
   "cell_type": "code",
   "execution_count": 91,
   "metadata": {},
   "outputs": [
    {
     "data": {
      "text/plain": [
       "'Image processing'"
      ]
     },
     "execution_count": 91,
     "metadata": {},
     "output_type": "execute_result"
    }
   ],
   "source": [
    "master_student1.specialty"
   ]
  },
  {
   "cell_type": "code",
   "execution_count": 92,
   "metadata": {},
   "outputs": [
    {
     "data": {
      "text/plain": [
       "Jonh Doe, major: computer science, specialty: Image processing"
      ]
     },
     "execution_count": 92,
     "metadata": {},
     "output_type": "execute_result"
    }
   ],
   "source": [
    "master_student1"
   ]
  },
  {
   "cell_type": "code",
   "execution_count": 93,
   "metadata": {},
   "outputs": [],
   "source": [
    "master_student1.get_internship('inria')"
   ]
  },
  {
   "cell_type": "code",
   "execution_count": 94,
   "metadata": {},
   "outputs": [
    {
     "name": "stdout",
     "output_type": "stream",
     "text": [
      "Jonh Doe is studing computer science \n"
     ]
    }
   ],
   "source": [
    "print(master_student1)"
   ]
  }
 ],
 "metadata": {
  "kernelspec": {
   "display_name": "Python 3",
   "language": "python",
   "name": "python3"
  },
  "language_info": {
   "codemirror_mode": {
    "name": "ipython",
    "version": 3
   },
   "file_extension": ".py",
   "mimetype": "text/x-python",
   "name": "python",
   "nbconvert_exporter": "python",
   "pygments_lexer": "ipython3",
   "version": "3.6.6"
  }
 },
 "nbformat": 4,
 "nbformat_minor": 2
}
