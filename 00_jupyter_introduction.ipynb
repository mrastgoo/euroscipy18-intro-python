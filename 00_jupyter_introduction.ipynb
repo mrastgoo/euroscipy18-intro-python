{
 "cells": [
  {
   "cell_type": "markdown",
   "metadata": {},
   "source": [
    "Jupyter Notebooks\n",
    "==================\n",
    "\n",
    "A notebook consists in a set of cells. These cells are interpreted either as text instruction (i.e. **markdown**) or as Python **code**.\n",
    "\n",
    "* Each cell can be edited using ``[Enter]`` key (i.e. *edit mode*). To return to the *navigation mode*, use the ``[Esc]`` key.\n",
    "\n",
    "* To switch change a cell to a Python code cell, go in navigation mode and the press ``[y]`` key. Similary, to change a cell to a markdown cell, press the ``[m]`` key.\n",
    "\n",
    "* You can run a cell by pressing ``[shift] + [Enter]`` or by pressing the \"play\" button in the menu.\n",
    "\n",
    "![](images/ipython_run_cell.png)\n",
    "\n",
    "* You can get help on a function or object by pressing ``[shift] + [tab]`` after the opening parenthesis ``function(``\n",
    "\n",
    "![](images/ipython_help-1.png)\n",
    "\n",
    "* You can also get help by executing ``function?``, or ``function??``, or ``help(function)``\n",
    "\n",
    "![](images/ipython_help-2.png)\n",
    "\n",
    "Some useful keyboard shortcut (*you need to be in navigation mode*):\n",
    "\n",
    "* Add a cell above the current cell -> press ``[a]``\n",
    "* Add a cell below the current cell -> press ``[b]``\n",
    "* Select several cells -> hold ``[Shift]`` + arrow ``[up]`` or ``[down]``\n",
    "* Remove the selected cell(s) -> press ``[dd]``\n",
    "* Copy the selected cell(s) -> press ``[c]``\n",
    "* Cut the selected cell(s) -> press ``[x]``\n",
    "* Paste the copy/cut cell(s) -> press ``[v]``"
   ]
  },
  {
   "cell_type": "code",
   "execution_count": null,
   "metadata": {},
   "outputs": [],
   "source": []
  }
 ],
 "metadata": {
  "kernelspec": {
   "display_name": "Python 3",
   "language": "python",
   "name": "python3"
  },
  "language_info": {
   "codemirror_mode": {
    "name": "ipython",
    "version": 3
   },
   "file_extension": ".py",
   "mimetype": "text/x-python",
   "name": "python",
   "nbconvert_exporter": "python",
   "pygments_lexer": "ipython3",
   "version": "3.6.6"
  }
 },
 "nbformat": 4,
 "nbformat_minor": 2
}
